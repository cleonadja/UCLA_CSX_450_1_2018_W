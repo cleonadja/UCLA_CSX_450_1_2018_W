{
 "cells": [
  {
   "cell_type": "markdown",
   "metadata": {
    "collapsed": true
   },
   "source": [
    "This notebook accompanies *An Introduction to Statistical Learning*, Chapter 1. This text is available as a free pdf [here](http://www-bcf.usc.edu/~gareth/ISL/). \n",
    "\n",
    "<img src=\"http://www-bcf.usc.edu/~gareth/ISL/ISL%20Cover%202.jpg\" width=250px>"
   ]
  },
  {
   "cell_type": "markdown",
   "metadata": {},
   "source": [
    "# An Introduction to Statistical Learning"
   ]
  },
  {
   "cell_type": "markdown",
   "metadata": {},
   "source": [
    "## Chapter 1 - Introduction"
   ]
  },
  {
   "cell_type": "markdown",
   "metadata": {},
   "source": [
    "**Statistical Learning** refers to a vast set of tools for **understanding data**. "
   ]
  },
  {
   "cell_type": "markdown",
   "metadata": {},
   "source": [
    "These tools can be classified as **supervised** or **unsupervised**. \n",
    "\n",
    "Broadly speaking, supervised statistical learning involves building a statistical model for predicting, or estimating, an output based on one or more inputs. \n",
    "\n",
    "With unsupervised statistical learning, there are inputs but no supervising output."
   ]
  },
  {
   "cell_type": "markdown",
   "metadata": {},
   "source": [
    "## Wage Data\n",
    "\n",
    "#### Domain \n",
    "\n",
    "This problem is drawn from the analysis of population demographic data. \n",
    "\n",
    "#### Problem Statement\n",
    "\n",
    "Given certain information about males from the United States, we will use supervised learning to develop a regression model that can predict a member of the population's wage.\n",
    "\n",
    "We examine a number of factors that relate to wages for a group of males from the Atlantic region of the United States. \n",
    "\n",
    "In particular, we wish to understand the association between an employee’s `age` and `education`, as well as the calendar `year`, on his `wage`.\n",
    "\n",
    "#### Dataset and Inputs\n",
    "\n",
    "The dataset to be examined contains survey information from the central Atlantic region of the United States. \n",
    "\n",
    "#### Solution Statement\n",
    "\n",
    "A solution to this problem will be a regression model such as a linear regression, a decision tree regressor, or a support vector regressor. \n",
    "\n",
    "#### Benchmark Model\n",
    "\n",
    "Given that we seek a regression model a good naive benchmark would be to use either the mean or the median of the wages for the dataset. \n",
    "\n",
    "#### Evaluation Metrics\n",
    "\n",
    "Given that this is a regression task, we can measure the success of our model using the $R^2$ metric, the Mean Absolute Error, or the Mean Square Error.\n"
   ]
  },
  {
   "cell_type": "code",
   "execution_count": 2,
   "metadata": {},
   "outputs": [],
   "source": [
    "import matplotlib.pyplot as plt\n",
    "import numpy as np\n",
    "import pandas as pd\n",
    "import seaborn as sns\n",
    "%matplotlib inline"
   ]
  },
  {
   "cell_type": "code",
   "execution_count": 3,
   "metadata": {},
   "outputs": [
    {
     "data": {
      "text/html": [
       "<div>\n",
       "<table border=\"1\" class=\"dataframe\">\n",
       "  <thead>\n",
       "    <tr style=\"text-align: right;\">\n",
       "      <th></th>\n",
       "      <th>Unnamed: 0</th>\n",
       "      <th>year</th>\n",
       "      <th>age</th>\n",
       "      <th>sex</th>\n",
       "      <th>maritl</th>\n",
       "      <th>race</th>\n",
       "      <th>education</th>\n",
       "      <th>region</th>\n",
       "      <th>jobclass</th>\n",
       "      <th>health</th>\n",
       "      <th>health_ins</th>\n",
       "      <th>logwage</th>\n",
       "      <th>wage</th>\n",
       "    </tr>\n",
       "  </thead>\n",
       "  <tbody>\n",
       "    <tr>\n",
       "      <th>984</th>\n",
       "      <td>449978</td>\n",
       "      <td>2009</td>\n",
       "      <td>31</td>\n",
       "      <td>1. Male</td>\n",
       "      <td>2. Married</td>\n",
       "      <td>1. White</td>\n",
       "      <td>2. HS Grad</td>\n",
       "      <td>2. Middle Atlantic</td>\n",
       "      <td>1. Industrial</td>\n",
       "      <td>1. &lt;=Good</td>\n",
       "      <td>1. Yes</td>\n",
       "      <td>4.623249</td>\n",
       "      <td>101.824352</td>\n",
       "    </tr>\n",
       "    <tr>\n",
       "      <th>881</th>\n",
       "      <td>230128</td>\n",
       "      <td>2006</td>\n",
       "      <td>31</td>\n",
       "      <td>1. Male</td>\n",
       "      <td>2. Married</td>\n",
       "      <td>1. White</td>\n",
       "      <td>1. &lt; HS Grad</td>\n",
       "      <td>2. Middle Atlantic</td>\n",
       "      <td>1. Industrial</td>\n",
       "      <td>1. &lt;=Good</td>\n",
       "      <td>2. No</td>\n",
       "      <td>4.397940</td>\n",
       "      <td>81.283253</td>\n",
       "    </tr>\n",
       "    <tr>\n",
       "      <th>134</th>\n",
       "      <td>8339</td>\n",
       "      <td>2005</td>\n",
       "      <td>46</td>\n",
       "      <td>1. Male</td>\n",
       "      <td>2. Married</td>\n",
       "      <td>3. Asian</td>\n",
       "      <td>5. Advanced Degree</td>\n",
       "      <td>2. Middle Atlantic</td>\n",
       "      <td>2. Information</td>\n",
       "      <td>2. &gt;=Very Good</td>\n",
       "      <td>1. Yes</td>\n",
       "      <td>4.903090</td>\n",
       "      <td>134.705375</td>\n",
       "    </tr>\n",
       "    <tr>\n",
       "      <th>972</th>\n",
       "      <td>374823</td>\n",
       "      <td>2008</td>\n",
       "      <td>36</td>\n",
       "      <td>1. Male</td>\n",
       "      <td>2. Married</td>\n",
       "      <td>1. White</td>\n",
       "      <td>2. HS Grad</td>\n",
       "      <td>2. Middle Atlantic</td>\n",
       "      <td>2. Information</td>\n",
       "      <td>2. &gt;=Very Good</td>\n",
       "      <td>2. No</td>\n",
       "      <td>4.000000</td>\n",
       "      <td>54.598150</td>\n",
       "    </tr>\n",
       "  </tbody>\n",
       "</table>\n",
       "</div>"
      ],
      "text/plain": [
       "     Unnamed: 0  year  age      sex      maritl      race           education  \\\n",
       "984      449978  2009   31  1. Male  2. Married  1. White          2. HS Grad   \n",
       "881      230128  2006   31  1. Male  2. Married  1. White        1. < HS Grad   \n",
       "134        8339  2005   46  1. Male  2. Married  3. Asian  5. Advanced Degree   \n",
       "972      374823  2008   36  1. Male  2. Married  1. White          2. HS Grad   \n",
       "\n",
       "                 region        jobclass          health health_ins   logwage  \\\n",
       "984  2. Middle Atlantic   1. Industrial       1. <=Good     1. Yes  4.623249   \n",
       "881  2. Middle Atlantic   1. Industrial       1. <=Good      2. No  4.397940   \n",
       "134  2. Middle Atlantic  2. Information  2. >=Very Good     1. Yes  4.903090   \n",
       "972  2. Middle Atlantic  2. Information  2. >=Very Good      2. No  4.000000   \n",
       "\n",
       "           wage  \n",
       "984  101.824352  \n",
       "881   81.283253  \n",
       "134  134.705375  \n",
       "972   54.598150  "
      ]
     },
     "execution_count": 3,
     "metadata": {},
     "output_type": "execute_result"
    }
   ],
   "source": [
    "wage_df = pd.read_csv('data/Wage.csv')\n",
    "wage_df.sample(4)"
   ]
  },
  {
   "cell_type": "code",
   "execution_count": 4,
   "metadata": {},
   "outputs": [
    {
     "name": "stdout",
     "output_type": "stream",
     "text": [
      "Figure 1.1\n"
     ]
    },
    {
     "data": {
      "image/png": "[encoded data removed]",
      "text/plain": [
       "<matplotlib.figure.Figure at 0x7f3e6f306c88>"
      ]
     },
     "metadata": {},
     "output_type": "display_data"
    }
   ],
   "source": [
    "fig = plt.figure(figsize=(20,4))\n",
    "\n",
    "fig.add_subplot(131)\n",
    "sns.regplot(x='age', y='wage', data=wage_df, order=5)\n",
    "\n",
    "fig.add_subplot(132)\n",
    "sns.regplot(x='year', y='wage', data=wage_df)\n",
    "\n",
    "fig.add_subplot(133)\n",
    "wage_df['education_int'] = wage_df['education'].str.extract('(\\d)', expand=False).astype(int)\n",
    "education_labels = wage_df['education'].unique()\n",
    "education_labels.sort()\n",
    "sns.boxplot(x='education_int', y='wage', data=wage_df)\n",
    "plt.xticks(np.arange(len(education_labels)),education_labels, rotation='vertical')\n",
    "\n",
    "print(\"Figure 1.1\")"
   ]
  },
  {
   "cell_type": "markdown",
   "metadata": {},
   "source": [
    "## Stock Market Data"
   ]
  },
  {
   "cell_type": "markdown",
   "metadata": {},
   "source": [
    "#### Domain \n",
    "\n",
    "This problem is drawn from the analysis of stock market performance. \n",
    "\n",
    "#### Problem Statement\n",
    "\n",
    "For a single stock, given knowledge about the previous days' change, we will use supervised learning to develop a classification model to predict whether the stock will increase or decrese in the next day.\n",
    "\n",
    "#### Dataset and Inputs\n",
    "\n",
    "The dataset to be examined contains the year, the change for the five previous days, the trading volume, the day's change, and a categorical variable describing whether the stock rose or fell on that day. This is for a single stock from 2001 to 2005.\n",
    "\n",
    "#### Solution Statement\n",
    "\n",
    "A solution to this problem will be a classification model such as a logistic regression, a decision tree classfier, or a support vector classifier. \n",
    "\n",
    "#### Benchmark Model\n",
    "\n",
    "Given that we seek a classification model a good naive benchmark would be to guess the most common class.\n",
    "\n",
    "#### Evaluation Metrics\n",
    "\n",
    "Given that this is a classification task, and there is a slight imbalance in our dataset (more Up than Down), we can measure the success of our model using the F1 Score.\n",
    "\n"
   ]
  },
  {
   "cell_type": "code",
   "execution_count": 5,
   "metadata": {},
   "outputs": [
    {
     "data": {
      "text/html": [
       "<div>\n",
       "<table border=\"1\" class=\"dataframe\">\n",
       "  <thead>\n",
       "    <tr style=\"text-align: right;\">\n",
       "      <th></th>\n",
       "      <th>Year</th>\n",
       "      <th>Lag1</th>\n",
       "      <th>Lag2</th>\n",
       "      <th>Lag3</th>\n",
       "      <th>Lag4</th>\n",
       "      <th>Lag5</th>\n",
       "      <th>Volume</th>\n",
       "      <th>Today</th>\n",
       "      <th>Direction</th>\n",
       "    </tr>\n",
       "    <tr>\n",
       "      <th>Index</th>\n",
       "      <th></th>\n",
       "      <th></th>\n",
       "      <th></th>\n",
       "      <th></th>\n",
       "      <th></th>\n",
       "      <th></th>\n",
       "      <th></th>\n",
       "      <th></th>\n",
       "      <th></th>\n",
       "    </tr>\n",
       "  </thead>\n",
       "  <tbody>\n",
       "    <tr>\n",
       "      <th>872</th>\n",
       "      <td>2004</td>\n",
       "      <td>-1.043</td>\n",
       "      <td>0.408</td>\n",
       "      <td>0.251</td>\n",
       "      <td>-0.095</td>\n",
       "      <td>-0.545</td>\n",
       "      <td>1.49570</td>\n",
       "      <td>-0.315</td>\n",
       "      <td>Down</td>\n",
       "    </tr>\n",
       "    <tr>\n",
       "      <th>1125</th>\n",
       "      <td>2005</td>\n",
       "      <td>0.261</td>\n",
       "      <td>-0.710</td>\n",
       "      <td>-0.143</td>\n",
       "      <td>0.914</td>\n",
       "      <td>-0.074</td>\n",
       "      <td>1.59382</td>\n",
       "      <td>0.883</td>\n",
       "      <td>Up</td>\n",
       "    </tr>\n",
       "    <tr>\n",
       "      <th>616</th>\n",
       "      <td>2003</td>\n",
       "      <td>-0.827</td>\n",
       "      <td>0.184</td>\n",
       "      <td>-1.411</td>\n",
       "      <td>0.100</td>\n",
       "      <td>-1.524</td>\n",
       "      <td>1.45920</td>\n",
       "      <td>1.077</td>\n",
       "      <td>Up</td>\n",
       "    </tr>\n",
       "    <tr>\n",
       "      <th>863</th>\n",
       "      <td>2004</td>\n",
       "      <td>0.262</td>\n",
       "      <td>-0.133</td>\n",
       "      <td>0.137</td>\n",
       "      <td>0.597</td>\n",
       "      <td>-0.984</td>\n",
       "      <td>1.50060</td>\n",
       "      <td>-0.416</td>\n",
       "      <td>Down</td>\n",
       "    </tr>\n",
       "  </tbody>\n",
       "</table>\n",
       "</div>"
      ],
      "text/plain": [
       "       Year   Lag1   Lag2   Lag3   Lag4   Lag5   Volume  Today Direction\n",
       "Index                                                                   \n",
       "872    2004 -1.043  0.408  0.251 -0.095 -0.545  1.49570 -0.315      Down\n",
       "1125   2005  0.261 -0.710 -0.143  0.914 -0.074  1.59382  0.883        Up\n",
       "616    2003 -0.827  0.184 -1.411  0.100 -1.524  1.45920  1.077        Up\n",
       "863    2004  0.262 -0.133  0.137  0.597 -0.984  1.50060 -0.416      Down"
      ]
     },
     "execution_count": 5,
     "metadata": {},
     "output_type": "execute_result"
    }
   ],
   "source": [
    "market_df = pd.read_csv('data/Smarket.csv', index_col='Index')\n",
    "market_df.sample(4)"
   ]
  },
  {
   "cell_type": "code",
   "execution_count": 6,
   "metadata": {},
   "outputs": [
    {
     "data": {
      "text/plain": [
       "<matplotlib.axes._subplots.AxesSubplot at 0x7f3e6f306908>"
      ]
     },
     "execution_count": 6,
     "metadata": {},
     "output_type": "execute_result"
    },
    {
     "data": {
      "image/png": "[encoded data removed]",
      "text/plain": [
       "<matplotlib.figure.Figure at 0x7f3e6f346940>"
      ]
     },
     "metadata": {},
     "output_type": "display_data"
    }
   ],
   "source": [
    "sns.distplot(market_df.Direction == 'Up')"
   ]
  },
  {
   "cell_type": "code",
   "execution_count": 7,
   "metadata": {},
   "outputs": [
    {
     "name": "stdout",
     "output_type": "stream",
     "text": [
      "Figure 1.2\n"
     ]
    },
    {
     "data": {
      "image/png": "[encoded data removed]",
      "text/plain": [
       "<matplotlib.figure.Figure at 0x7f3e6d16e4e0>"
      ]
     },
     "metadata": {},
     "output_type": "display_data"
    }
   ],
   "source": [
    "fig = plt.figure(figsize=(20,4))\n",
    "\n",
    "fig.add_subplot(131)\n",
    "sns.boxplot(x='Direction', y='Lag1', data=market_df)\n",
    "plt.title(\"Yesterday\")\n",
    "\n",
    "fig.add_subplot(132)\n",
    "sns.boxplot(x='Direction', y='Lag2', data=market_df)\n",
    "plt.title(\"Two Days Previous\")\n",
    "\n",
    "fig.add_subplot(133)\n",
    "sns.boxplot(x='Direction', y='Lag3', data=market_df)\n",
    "plt.title(\"Three Days Previous\")\n",
    "\n",
    "print(\"Figure 1.2\")"
   ]
  },
  {
   "cell_type": "markdown",
   "metadata": {},
   "source": [
    "## Gene Expression Data"
   ]
  },
  {
   "cell_type": "markdown",
   "metadata": {},
   "source": [
    "#### Domain \n",
    "\n",
    "This problem is drawn from the analysis of gene expression data. \n",
    "\n",
    "#### Problem Statement\n",
    "\n",
    "Given the expression measurements of 64 cell lines, we wish to project these cell lines into two dimensions and perform an unsupervised cluster analysis in order to identify similar cell lines.\n",
    "\n",
    "#### Dataset and Inputs\n",
    "\n",
    "The dataset to be examined is the `NCI60` dataset, which consists of 6830 gene expression measurements for each of 64 cancer cell lines.\n",
    "\n",
    "#### Solution Statement\n",
    "\n",
    "A solution to this problem will be a cluster analysis using a model such as a KMeans Clustering or a Gaussian Mixture Model. \n",
    "\n",
    "#### Benchmark Model\n",
    "\n",
    "N/A\n",
    "\n",
    "#### Evaluation Metrics\n",
    "\n",
    "Given that this is a clustering task, we can measure the success of our model using the Silhouette Score.\n",
    "\n"
   ]
  },
  {
   "cell_type": "code",
   "execution_count": 8,
   "metadata": {},
   "outputs": [
    {
     "data": {
      "text/html": [
       "<div>\n",
       "<table border=\"1\" class=\"dataframe\">\n",
       "  <thead>\n",
       "    <tr style=\"text-align: right;\">\n",
       "      <th></th>\n",
       "      <th>data.1</th>\n",
       "      <th>data.2</th>\n",
       "      <th>data.3</th>\n",
       "      <th>data.4</th>\n",
       "      <th>data.5</th>\n",
       "      <th>data.6</th>\n",
       "      <th>data.7</th>\n",
       "      <th>data.8</th>\n",
       "      <th>data.9</th>\n",
       "      <th>data.10</th>\n",
       "      <th>...</th>\n",
       "      <th>data.6822</th>\n",
       "      <th>data.6823</th>\n",
       "      <th>data.6824</th>\n",
       "      <th>data.6825</th>\n",
       "      <th>data.6826</th>\n",
       "      <th>data.6827</th>\n",
       "      <th>data.6828</th>\n",
       "      <th>data.6829</th>\n",
       "      <th>data.6830</th>\n",
       "      <th>labs</th>\n",
       "    </tr>\n",
       "    <tr>\n",
       "      <th>Index</th>\n",
       "      <th></th>\n",
       "      <th></th>\n",
       "      <th></th>\n",
       "      <th></th>\n",
       "      <th></th>\n",
       "      <th></th>\n",
       "      <th></th>\n",
       "      <th></th>\n",
       "      <th></th>\n",
       "      <th></th>\n",
       "      <th></th>\n",
       "      <th></th>\n",
       "      <th></th>\n",
       "      <th></th>\n",
       "      <th></th>\n",
       "      <th></th>\n",
       "      <th></th>\n",
       "      <th></th>\n",
       "      <th></th>\n",
       "      <th></th>\n",
       "      <th></th>\n",
       "    </tr>\n",
       "  </thead>\n",
       "  <tbody>\n",
       "    <tr>\n",
       "      <th>V1</th>\n",
       "      <td>0.30000</td>\n",
       "      <td>1.18000</td>\n",
       "      <td>0.55000</td>\n",
       "      <td>1.14000</td>\n",
       "      <td>-0.26500</td>\n",
       "      <td>-0.07000</td>\n",
       "      <td>0.350000</td>\n",
       "      <td>-0.315000</td>\n",
       "      <td>-0.450000</td>\n",
       "      <td>-0.654981</td>\n",
       "      <td>...</td>\n",
       "      <td>0.00000</td>\n",
       "      <td>0.03000</td>\n",
       "      <td>-0.175000</td>\n",
       "      <td>0.629981</td>\n",
       "      <td>-0.030000</td>\n",
       "      <td>0.00000</td>\n",
       "      <td>0.280000</td>\n",
       "      <td>-0.340000</td>\n",
       "      <td>-1.93</td>\n",
       "      <td>CNS</td>\n",
       "    </tr>\n",
       "    <tr>\n",
       "      <th>V37</th>\n",
       "      <td>-0.36998</td>\n",
       "      <td>-1.38998</td>\n",
       "      <td>-0.05998</td>\n",
       "      <td>0.07002</td>\n",
       "      <td>-0.07498</td>\n",
       "      <td>0.04002</td>\n",
       "      <td>-0.439981</td>\n",
       "      <td>-0.184981</td>\n",
       "      <td>-0.599981</td>\n",
       "      <td>-0.474961</td>\n",
       "      <td>...</td>\n",
       "      <td>-0.22998</td>\n",
       "      <td>0.03002</td>\n",
       "      <td>-0.114981</td>\n",
       "      <td>0.340000</td>\n",
       "      <td>-0.119981</td>\n",
       "      <td>0.15001</td>\n",
       "      <td>-0.989981</td>\n",
       "      <td>0.140019</td>\n",
       "      <td>0.00</td>\n",
       "      <td>LEUKEMIA</td>\n",
       "    </tr>\n",
       "    <tr>\n",
       "      <th>V7</th>\n",
       "      <td>-0.83000</td>\n",
       "      <td>0.00000</td>\n",
       "      <td>0.13000</td>\n",
       "      <td>-1.63000</td>\n",
       "      <td>0.07500</td>\n",
       "      <td>-0.36000</td>\n",
       "      <td>0.100000</td>\n",
       "      <td>0.155000</td>\n",
       "      <td>-0.290000</td>\n",
       "      <td>-0.084981</td>\n",
       "      <td>...</td>\n",
       "      <td>-0.22000</td>\n",
       "      <td>-0.03000</td>\n",
       "      <td>-0.495000</td>\n",
       "      <td>0.929980</td>\n",
       "      <td>0.470000</td>\n",
       "      <td>0.12999</td>\n",
       "      <td>-0.300000</td>\n",
       "      <td>0.570000</td>\n",
       "      <td>0.00</td>\n",
       "      <td>CNS</td>\n",
       "    </tr>\n",
       "    <tr>\n",
       "      <th>V43</th>\n",
       "      <td>-0.62000</td>\n",
       "      <td>0.08000</td>\n",
       "      <td>0.14000</td>\n",
       "      <td>0.74000</td>\n",
       "      <td>0.20500</td>\n",
       "      <td>0.00000</td>\n",
       "      <td>0.070000</td>\n",
       "      <td>-0.155000</td>\n",
       "      <td>0.030000</td>\n",
       "      <td>-0.544980</td>\n",
       "      <td>...</td>\n",
       "      <td>0.33000</td>\n",
       "      <td>0.23000</td>\n",
       "      <td>0.575000</td>\n",
       "      <td>-0.240020</td>\n",
       "      <td>0.440000</td>\n",
       "      <td>0.43999</td>\n",
       "      <td>-0.760000</td>\n",
       "      <td>0.310000</td>\n",
       "      <td>1.95</td>\n",
       "      <td>COLON</td>\n",
       "    </tr>\n",
       "  </tbody>\n",
       "</table>\n",
       "<p>4 rows × 6831 columns</p>\n",
       "</div>"
      ],
      "text/plain": [
       "        data.1   data.2   data.3   data.4   data.5   data.6    data.7  \\\n",
       "Index                                                                   \n",
       "V1     0.30000  1.18000  0.55000  1.14000 -0.26500 -0.07000  0.350000   \n",
       "V37   -0.36998 -1.38998 -0.05998  0.07002 -0.07498  0.04002 -0.439981   \n",
       "V7    -0.83000  0.00000  0.13000 -1.63000  0.07500 -0.36000  0.100000   \n",
       "V43   -0.62000  0.08000  0.14000  0.74000  0.20500  0.00000  0.070000   \n",
       "\n",
       "         data.8    data.9   data.10    ...     data.6822  data.6823  \\\n",
       "Index                                  ...                            \n",
       "V1    -0.315000 -0.450000 -0.654981    ...       0.00000    0.03000   \n",
       "V37   -0.184981 -0.599981 -0.474961    ...      -0.22998    0.03002   \n",
       "V7     0.155000 -0.290000 -0.084981    ...      -0.22000   -0.03000   \n",
       "V43   -0.155000  0.030000 -0.544980    ...       0.33000    0.23000   \n",
       "\n",
       "       data.6824  data.6825  data.6826  data.6827  data.6828  data.6829  \\\n",
       "Index                                                                     \n",
       "V1     -0.175000   0.629981  -0.030000    0.00000   0.280000  -0.340000   \n",
       "V37    -0.114981   0.340000  -0.119981    0.15001  -0.989981   0.140019   \n",
       "V7     -0.495000   0.929980   0.470000    0.12999  -0.300000   0.570000   \n",
       "V43     0.575000  -0.240020   0.440000    0.43999  -0.760000   0.310000   \n",
       "\n",
       "       data.6830      labs  \n",
       "Index                       \n",
       "V1         -1.93       CNS  \n",
       "V37         0.00  LEUKEMIA  \n",
       "V7          0.00       CNS  \n",
       "V43         1.95     COLON  \n",
       "\n",
       "[4 rows x 6831 columns]"
      ]
     },
     "execution_count": 8,
     "metadata": {},
     "output_type": "execute_result"
    }
   ],
   "source": [
    "gene_expression_df = pd.read_csv('data/NCI60.csv', index_col='Index')\n",
    "gene_expression_df.sample(4)"
   ]
  },
  {
   "cell_type": "code",
   "execution_count": 9,
   "metadata": {},
   "outputs": [],
   "source": [
    "from sklearn.decomposition import PCA\n",
    "\n",
    "number_of_dimensions = 2\n",
    "pca = PCA(n_components=number_of_dimensions)\n",
    "\n",
    "pca.fit(gene_expression_df.drop('labs', axis=1))\n",
    "gene_exp_2d = pca.transform(gene_expression_df.drop('labs', axis=1))"
   ]
  },
  {
   "cell_type": "code",
   "execution_count": 10,
   "metadata": {},
   "outputs": [
    {
     "data": {
      "image/png": "[encoded data removed]",
      "text/plain": [
       "<matplotlib.figure.Figure at 0x7f3e6946a7f0>"
      ]
     },
     "metadata": {},
     "output_type": "display_data"
    }
   ],
   "source": [
    "from sklearn.cluster import KMeans\n",
    "\n",
    "number_of_clusters = [2,3,6,14]\n",
    "\n",
    "fig = plt.figure(figsize=(20,4))\n",
    "\n",
    "for i, clusters in enumerate(number_of_clusters):\n",
    "    fig.add_subplot(101+i+10*len(number_of_clusters))\n",
    "    kmeans = KMeans(n_clusters=clusters)\n",
    "    kmeans.fit(gene_expression_df.drop('labs', axis=1))\n",
    "    labels = ['cluster ' + str(label+1) for label in kmeans.labels_]\n",
    "    ax = sns.swarmplot(x=gene_exp_2d[:,0], y=gene_exp_2d[:,1], hue=labels)\n",
    "    ax.set(xticklabels=[])\n",
    "    ax.set(yticklabels=[])\n",
    "    ax.legend(loc='upper right')\n",
    "    if i == 3: ax.legend_.remove()"
   ]
  },
  {
   "cell_type": "code",
   "execution_count": null,
   "metadata": {},
   "outputs": [],
   "source": []
  }
 ],
 "metadata": {
  "kernelspec": {
   "display_name": "Python 3",
   "language": "python",
   "name": "python3"
  },
  "language_info": {
   "codemirror_mode": {
    "name": "ipython",
    "version": 3
   },
   "file_extension": ".py",
   "mimetype": "text/x-python",
   "name": "python",
   "nbconvert_exporter": "python",
   "pygments_lexer": "ipython3",
   "version": "3.6.4"
  }
 },
 "nbformat": 4,
 "nbformat_minor": 2
}
